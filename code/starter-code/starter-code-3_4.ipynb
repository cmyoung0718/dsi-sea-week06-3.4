{
 "cells": [
  {
   "cell_type": "markdown",
   "metadata": {},
   "source": [
    "# Model Comparison Lab\n",
    "\n",
    "In this lab we will compare the performance of all the models we have learned about so far, using the car evaluation dataset."
   ]
  },
  {
   "cell_type": "markdown",
   "metadata": {},
   "source": [
    "## 1. Prepare the data\n",
    "\n",
    "The [car evaluation dataset](https://archive.ics.uci.edu/ml/machine-learning-databases/car/) is in the assets/datasets folder. By now you should be very familiar with this dataset.\n",
    "\n",
    "1. Load the data into a pandas dataframe\n",
    "- Encode the categorical features properly: define a map that preserves the scale (assigning smaller numbers to words indicating smaller quantities)\n",
    "- Separate features from target into X and y"
   ]
  },
  {
   "cell_type": "code",
   "execution_count": 1,
   "metadata": {
    "collapsed": false
   },
   "outputs": [],
   "source": [
    "import pandas as pd\n",
    "import numpy as np\n",
    "import matplotlib.pyplot as plt\n",
    "from sklearn.neighbors import KNeighborsClassifier\n",
    "from sklearn.preprocessing import StandardScaler, LabelEncoder\n",
    "from sklearn.tree import DecisionTreeClassifier\n",
    "from sklearn.model_selection import train_test_split, cross_val_score, GridSearchCV\n",
    "from sklearn.ensemble import BaggingClassifier, RandomForestClassifier, ExtraTreesClassifier\n",
    "from sklearn.metrics import confusion_matrix, classification_report\n",
    "from sklearn.linear_model import LogisticRegression\n",
    "from sklearn.svm import SVC\n",
    "%matplotlib inline"
   ]
  },
  {
   "cell_type": "code",
   "execution_count": 2,
   "metadata": {
    "collapsed": false,
    "scrolled": true
   },
   "outputs": [
    {
     "data": {
      "text/html": [
       "<div>\n",
       "<table border=\"1\" class=\"dataframe\">\n",
       "  <thead>\n",
       "    <tr style=\"text-align: right;\">\n",
       "      <th></th>\n",
       "      <th>buying</th>\n",
       "      <th>maint</th>\n",
       "      <th>doors</th>\n",
       "      <th>persons</th>\n",
       "      <th>lug_boot</th>\n",
       "      <th>safety</th>\n",
       "      <th>acceptability</th>\n",
       "    </tr>\n",
       "  </thead>\n",
       "  <tbody>\n",
       "    <tr>\n",
       "      <th>0</th>\n",
       "      <td>vhigh</td>\n",
       "      <td>vhigh</td>\n",
       "      <td>2</td>\n",
       "      <td>2</td>\n",
       "      <td>small</td>\n",
       "      <td>low</td>\n",
       "      <td>unacc</td>\n",
       "    </tr>\n",
       "    <tr>\n",
       "      <th>1</th>\n",
       "      <td>vhigh</td>\n",
       "      <td>vhigh</td>\n",
       "      <td>2</td>\n",
       "      <td>2</td>\n",
       "      <td>small</td>\n",
       "      <td>med</td>\n",
       "      <td>unacc</td>\n",
       "    </tr>\n",
       "    <tr>\n",
       "      <th>2</th>\n",
       "      <td>vhigh</td>\n",
       "      <td>vhigh</td>\n",
       "      <td>2</td>\n",
       "      <td>2</td>\n",
       "      <td>small</td>\n",
       "      <td>high</td>\n",
       "      <td>unacc</td>\n",
       "    </tr>\n",
       "    <tr>\n",
       "      <th>3</th>\n",
       "      <td>vhigh</td>\n",
       "      <td>vhigh</td>\n",
       "      <td>2</td>\n",
       "      <td>2</td>\n",
       "      <td>med</td>\n",
       "      <td>low</td>\n",
       "      <td>unacc</td>\n",
       "    </tr>\n",
       "    <tr>\n",
       "      <th>4</th>\n",
       "      <td>vhigh</td>\n",
       "      <td>vhigh</td>\n",
       "      <td>2</td>\n",
       "      <td>2</td>\n",
       "      <td>med</td>\n",
       "      <td>med</td>\n",
       "      <td>unacc</td>\n",
       "    </tr>\n",
       "  </tbody>\n",
       "</table>\n",
       "</div>"
      ],
      "text/plain": [
       "  buying  maint doors persons lug_boot safety acceptability\n",
       "0  vhigh  vhigh     2       2    small    low         unacc\n",
       "1  vhigh  vhigh     2       2    small    med         unacc\n",
       "2  vhigh  vhigh     2       2    small   high         unacc\n",
       "3  vhigh  vhigh     2       2      med    low         unacc\n",
       "4  vhigh  vhigh     2       2      med    med         unacc"
      ]
     },
     "execution_count": 2,
     "metadata": {},
     "output_type": "execute_result"
    }
   ],
   "source": [
    "df = pd.read_csv('./../../assets/datasets/car.csv')\n",
    "df.head()"
   ]
  },
  {
   "cell_type": "code",
   "execution_count": 3,
   "metadata": {
    "collapsed": false
   },
   "outputs": [
    {
     "data": {
      "text/plain": [
       "med     576\n",
       "high    576\n",
       "low     576\n",
       "Name: safety, dtype: int64"
      ]
     },
     "execution_count": 3,
     "metadata": {},
     "output_type": "execute_result"
    }
   ],
   "source": [
    "df['safety'].value_counts()"
   ]
  },
  {
   "cell_type": "code",
   "execution_count": 4,
   "metadata": {
    "collapsed": false
   },
   "outputs": [
    {
     "data": {
      "text/html": [
       "<div>\n",
       "<table border=\"1\" class=\"dataframe\">\n",
       "  <thead>\n",
       "    <tr style=\"text-align: right;\">\n",
       "      <th></th>\n",
       "      <th>maint</th>\n",
       "      <th>buying</th>\n",
       "      <th>doors</th>\n",
       "      <th>persons</th>\n",
       "      <th>lug_boot</th>\n",
       "      <th>safety</th>\n",
       "    </tr>\n",
       "  </thead>\n",
       "  <tbody>\n",
       "    <tr>\n",
       "      <th>0</th>\n",
       "      <td>4</td>\n",
       "      <td>4</td>\n",
       "      <td>1</td>\n",
       "      <td>1</td>\n",
       "      <td>1</td>\n",
       "      <td>1</td>\n",
       "    </tr>\n",
       "    <tr>\n",
       "      <th>1</th>\n",
       "      <td>4</td>\n",
       "      <td>4</td>\n",
       "      <td>1</td>\n",
       "      <td>1</td>\n",
       "      <td>1</td>\n",
       "      <td>2</td>\n",
       "    </tr>\n",
       "    <tr>\n",
       "      <th>2</th>\n",
       "      <td>4</td>\n",
       "      <td>4</td>\n",
       "      <td>1</td>\n",
       "      <td>1</td>\n",
       "      <td>1</td>\n",
       "      <td>3</td>\n",
       "    </tr>\n",
       "    <tr>\n",
       "      <th>3</th>\n",
       "      <td>4</td>\n",
       "      <td>4</td>\n",
       "      <td>1</td>\n",
       "      <td>1</td>\n",
       "      <td>2</td>\n",
       "      <td>1</td>\n",
       "    </tr>\n",
       "    <tr>\n",
       "      <th>4</th>\n",
       "      <td>4</td>\n",
       "      <td>4</td>\n",
       "      <td>1</td>\n",
       "      <td>1</td>\n",
       "      <td>2</td>\n",
       "      <td>2</td>\n",
       "    </tr>\n",
       "  </tbody>\n",
       "</table>\n",
       "</div>"
      ],
      "text/plain": [
       "   maint  buying  doors  persons  lug_boot  safety\n",
       "0      4       4      1        1         1       1\n",
       "1      4       4      1        1         1       2\n",
       "2      4       4      1        1         1       3\n",
       "3      4       4      1        1         2       1\n",
       "4      4       4      1        1         2       2"
      ]
     },
     "execution_count": 4,
     "metadata": {},
     "output_type": "execute_result"
    }
   ],
   "source": [
    "map_maint = {'vhigh': 4,\n",
    "       'high': 3,\n",
    "       'med': 2,\n",
    "       'low':1}\n",
    "map_doors = {'5more': 4,\n",
    "       '4': 3,\n",
    "       '3': 2,\n",
    "       '2':1}\n",
    "map_persons = {'more': 3,\n",
    "       '4': 2,\n",
    "       '2':1}\n",
    "map_lug_boot = {'big': 3,\n",
    "       'med': 2,\n",
    "       'small':1}\n",
    "map_safety = {'high': 3,\n",
    "       'med': 2,\n",
    "       'low':1}\n",
    "\n",
    "\n",
    "# def thing(i):return map_maint[i]\n",
    "X_ = pd.DataFrame()\n",
    "X_['maint'] = map(lambda(x):map_maint[x], df['maint'])\n",
    "X_['buying'] = map(lambda(x):map_maint[x], df['buying'])\n",
    "X_['doors'] = map(lambda(x):map_doors[x], df['doors'])\n",
    "X_['persons'] = map(lambda(x):map_persons[x], df['persons'])\n",
    "X_['lug_boot'] = map(lambda(x):map_lug_boot[x], df['lug_boot'])\n",
    "X_['safety'] = map(lambda(x):map_safety[x], df['safety'])\n",
    "X = X_\n",
    "X.head()"
   ]
  },
  {
   "cell_type": "code",
   "execution_count": 5,
   "metadata": {
    "collapsed": false
   },
   "outputs": [
    {
     "data": {
      "text/html": [
       "<div>\n",
       "<table border=\"1\" class=\"dataframe\">\n",
       "  <thead>\n",
       "    <tr style=\"text-align: right;\">\n",
       "      <th></th>\n",
       "      <th>maint</th>\n",
       "      <th>buying</th>\n",
       "      <th>doors</th>\n",
       "      <th>persons</th>\n",
       "      <th>lug_boot</th>\n",
       "      <th>safety</th>\n",
       "    </tr>\n",
       "  </thead>\n",
       "  <tbody>\n",
       "    <tr>\n",
       "      <th>0</th>\n",
       "      <td>4</td>\n",
       "      <td>4</td>\n",
       "      <td>1</td>\n",
       "      <td>1</td>\n",
       "      <td>1</td>\n",
       "      <td>1</td>\n",
       "    </tr>\n",
       "    <tr>\n",
       "      <th>1</th>\n",
       "      <td>4</td>\n",
       "      <td>4</td>\n",
       "      <td>1</td>\n",
       "      <td>1</td>\n",
       "      <td>1</td>\n",
       "      <td>2</td>\n",
       "    </tr>\n",
       "    <tr>\n",
       "      <th>2</th>\n",
       "      <td>4</td>\n",
       "      <td>4</td>\n",
       "      <td>1</td>\n",
       "      <td>1</td>\n",
       "      <td>1</td>\n",
       "      <td>3</td>\n",
       "    </tr>\n",
       "    <tr>\n",
       "      <th>3</th>\n",
       "      <td>4</td>\n",
       "      <td>4</td>\n",
       "      <td>1</td>\n",
       "      <td>1</td>\n",
       "      <td>2</td>\n",
       "      <td>1</td>\n",
       "    </tr>\n",
       "    <tr>\n",
       "      <th>4</th>\n",
       "      <td>4</td>\n",
       "      <td>4</td>\n",
       "      <td>1</td>\n",
       "      <td>1</td>\n",
       "      <td>2</td>\n",
       "      <td>2</td>\n",
       "    </tr>\n",
       "  </tbody>\n",
       "</table>\n",
       "</div>"
      ],
      "text/plain": [
       "   maint  buying  doors  persons  lug_boot  safety\n",
       "0      4       4      1        1         1       1\n",
       "1      4       4      1        1         1       2\n",
       "2      4       4      1        1         1       3\n",
       "3      4       4      1        1         2       1\n",
       "4      4       4      1        1         2       2"
      ]
     },
     "execution_count": 5,
     "metadata": {},
     "output_type": "execute_result"
    }
   ],
   "source": [
    "X_ = pd.get_dummies(df.drop('acceptability', axis=1))\n",
    "le = LabelEncoder()\n",
    "y = le.fit_transform(df['acceptability'])\n",
    "\n",
    "X.head()"
   ]
  },
  {
   "cell_type": "markdown",
   "metadata": {},
   "source": [
    "## 2. Useful preparation\n",
    "\n",
    "Since we will compare several models, let's write a couple of helper functions.\n",
    "\n",
    "1. Separate X and y between a train and test set, using 30% test set, random state = 42\n",
    "    - make sure that the data is shuffled and stratified\n",
    "2. Define a function called `evaluate_model`, that trains the model on the train set, tests it on the test, calculates:\n",
    "    - accuracy score\n",
    "    - confusion matrix\n",
    "    - classification report\n",
    "3. Initialize a global dictionary to store the various models for later retrieval\n"
   ]
  },
  {
   "cell_type": "code",
   "execution_count": 6,
   "metadata": {
    "collapsed": false
   },
   "outputs": [],
   "source": [
    "X_train, X_test, y_train, y_test = train_test_split(X, y, stratify=y, test_size=0.33, random_state=42)"
   ]
  },
  {
   "cell_type": "code",
   "execution_count": 7,
   "metadata": {
    "collapsed": false
   },
   "outputs": [],
   "source": [
    "def evaluate_model(model):\n",
    "    # create model object\n",
    "    mod = model\n",
    "    # fit model\n",
    "    mod.fit(X_train, y_train)\n",
    "    y_pred = mod.predict(X_test)\n",
    "    print 'Accuracy score:', mod.score(X_test, y_test)\n",
    "    con = pd.DataFrame(confusion_matrix(y_pred, y_test))\n",
    "    con.columns = ['acc', 'good', 'unacc', 'vgood']\n",
    "    con.index = ['pred_acc', 'pred_good', 'pred_unacc', 'pred_vgood']\n",
    "    print con\n",
    "    print classification_report(y_pred, y_test)\n",
    "    return mod\n",
    "\n",
    "models = {}"
   ]
  },
  {
   "cell_type": "markdown",
   "metadata": {},
   "source": [
    "## 3.a KNN\n",
    "\n",
    "Let's start with `KNeighborsClassifier`.\n",
    "\n",
    "1. Initialize a KNN model\n",
    "- Evaluate it's performance with the function you previously defined\n",
    "- Find the optimal value of K using grid search\n",
    "    - Be careful on how you perform the cross validation in the grid search"
   ]
  },
  {
   "cell_type": "code",
   "execution_count": 8,
   "metadata": {
    "collapsed": false
   },
   "outputs": [
    {
     "name": "stdout",
     "output_type": "stream",
     "text": [
      "Accuracy score: 0.940455341506\n",
      "            acc  good  unacc  vgood\n",
      "pred_acc    114     5      9      3\n",
      "pred_good     1    17      0      3\n",
      "pred_unacc   12     1    391      0\n",
      "pred_vgood    0     0      0     15\n",
      "             precision    recall  f1-score   support\n",
      "\n",
      "          0       0.90      0.87      0.88       131\n",
      "          1       0.74      0.81      0.77        21\n",
      "          2       0.98      0.97      0.97       404\n",
      "          3       0.71      1.00      0.83        15\n",
      "\n",
      "avg / total       0.94      0.94      0.94       571\n",
      "\n"
     ]
    }
   ],
   "source": [
    "models['KNN'] = evaluate_model(KNeighborsClassifier())"
   ]
  },
  {
   "cell_type": "code",
   "execution_count": 9,
   "metadata": {
    "collapsed": false
   },
   "outputs": [
    {
     "data": {
      "text/plain": [
       "{'n_neighbors': 5}"
      ]
     },
     "execution_count": 9,
     "metadata": {},
     "output_type": "execute_result"
    }
   ],
   "source": [
    "pg = {'n_neighbors': [i for i in range(1,20)]}\n",
    "gs = GridSearchCV(models['KNN'], param_grid=pg, cv=5)\n",
    "gs.fit(X_train, y_train)\n",
    "gs.best_params_"
   ]
  },
  {
   "cell_type": "markdown",
   "metadata": {},
   "source": [
    "## 3.b Bagging + KNN\n",
    "\n",
    "Now that we have found the optimal K, let's wrap `KNeighborsClassifier` in a BaggingClassifier and see if the score improves.\n",
    "\n",
    "1. Wrap the KNN model in a Bagging Classifier\n",
    "- Evaluate performance\n",
    "- Do a grid search only on the bagging classifier params"
   ]
  },
  {
   "cell_type": "code",
   "execution_count": 10,
   "metadata": {
    "collapsed": false
   },
   "outputs": [
    {
     "name": "stdout",
     "output_type": "stream",
     "text": [
      "Accuracy score: 0.92819614711\n",
      "            acc  good  unacc  vgood\n",
      "pred_acc    109     4     11      3\n",
      "pred_good     0    16      0      2\n",
      "pred_unacc   18     3    389      0\n",
      "pred_vgood    0     0      0     16\n",
      "             precision    recall  f1-score   support\n",
      "\n",
      "          0       0.86      0.86      0.86       127\n",
      "          1       0.70      0.89      0.78        18\n",
      "          2       0.97      0.95      0.96       410\n",
      "          3       0.76      1.00      0.86        16\n",
      "\n",
      "avg / total       0.93      0.93      0.93       571\n",
      "\n"
     ]
    }
   ],
   "source": [
    "models['bagging_knn'] = evaluate_model(BaggingClassifier(models['KNN'].set_params(n_neighbors=5)))"
   ]
  },
  {
   "cell_type": "code",
   "execution_count": 11,
   "metadata": {
    "collapsed": false
   },
   "outputs": [
    {
     "name": "stdout",
     "output_type": "stream",
     "text": [
      "{'n_estimators': 10, 'bootstrap': True, 'bootstrap_features': False}\n"
     ]
    }
   ],
   "source": [
    "pg = {'n_estimators': [4, 8, 10, 12, 15],\n",
    "     'bootstrap': [True, False],\n",
    "     'bootstrap_features': [True, False]}\n",
    "def grid_search(model, pg):\n",
    "    gs = GridSearchCV(model, param_grid=pg, cv=3)\n",
    "    gs.fit(X_train, y_train)\n",
    "    print gs.best_params_\n",
    "grid_search(models['bagging_knn'], pg)"
   ]
  },
  {
   "cell_type": "code",
   "execution_count": 12,
   "metadata": {
    "collapsed": false,
    "scrolled": false
   },
   "outputs": [
    {
     "name": "stdout",
     "output_type": "stream",
     "text": [
      "Accuracy score: 0.935201401051\n",
      "            acc  good  unacc  vgood\n",
      "pred_acc    111     6      9      2\n",
      "pred_good     0    15      0      2\n",
      "pred_unacc   16     2    391      0\n",
      "pred_vgood    0     0      0     17\n",
      "             precision    recall  f1-score   support\n",
      "\n",
      "          0       0.87      0.87      0.87       128\n",
      "          1       0.65      0.88      0.75        17\n",
      "          2       0.98      0.96      0.97       409\n",
      "          3       0.81      1.00      0.89        17\n",
      "\n",
      "avg / total       0.94      0.94      0.94       571\n",
      "\n"
     ]
    },
    {
     "data": {
      "text/plain": [
       "BaggingClassifier(base_estimator=KNeighborsClassifier(algorithm='auto', leaf_size=30, metric='minkowski',\n",
       "           metric_params=None, n_jobs=1, n_neighbors=5, p=2,\n",
       "           weights='uniform'),\n",
       "         bootstrap=True, bootstrap_features=False, max_features=1.0,\n",
       "         max_samples=1.0, n_estimators=15, n_jobs=1, oob_score=False,\n",
       "         random_state=None, verbose=0, warm_start=False)"
      ]
     },
     "execution_count": 12,
     "metadata": {},
     "output_type": "execute_result"
    }
   ],
   "source": [
    "evaluate_model(models['bagging_knn'].set_params(bootstrap=True, bootstrap_features=False, n_estimators=15))"
   ]
  },
  {
   "cell_type": "markdown",
   "metadata": {},
   "source": [
    "## 4. Logistic Regression\n",
    "\n",
    "Let's see if logistic regression performs better\n",
    "\n",
    "1. Initialize LR and test on Train/Test set\n",
    "- Find optimal params with Grid Search\n",
    "- See if Bagging improves the score"
   ]
  },
  {
   "cell_type": "code",
   "execution_count": 13,
   "metadata": {
    "collapsed": false
   },
   "outputs": [
    {
     "name": "stdout",
     "output_type": "stream",
     "text": [
      "Accuracy score: 0.782837127846\n",
      "            acc  good  unacc  vgood\n",
      "pred_acc     55    12     11     17\n",
      "pred_good     2     3      0      0\n",
      "pred_unacc   70     4    385      0\n",
      "pred_vgood    0     4      4      4\n",
      "             precision    recall  f1-score   support\n",
      "\n",
      "          0       0.43      0.58      0.50        95\n",
      "          1       0.13      0.60      0.21         5\n",
      "          2       0.96      0.84      0.90       459\n",
      "          3       0.19      0.33      0.24        12\n",
      "\n",
      "avg / total       0.85      0.78      0.81       571\n",
      "\n"
     ]
    }
   ],
   "source": [
    "models['logreg'] = evaluate_model(LogisticRegression())"
   ]
  },
  {
   "cell_type": "code",
   "execution_count": 14,
   "metadata": {
    "collapsed": false
   },
   "outputs": [
    {
     "name": "stdout",
     "output_type": "stream",
     "text": [
      "{'penalty': 'l1', 'C': 10.0}\n"
     ]
    }
   ],
   "source": [
    "pg = {\n",
    "    'penalty': ['l1', 'l2'],\n",
    "    'C': [0.0001, 0.001, 0.01, 0.1, 1.0, 10.0, 100.0, 1000.0, 10000.0]\n",
    "}\n",
    "grid_search(models['logreg'], pg)"
   ]
  },
  {
   "cell_type": "code",
   "execution_count": 15,
   "metadata": {
    "collapsed": false
   },
   "outputs": [
    {
     "name": "stdout",
     "output_type": "stream",
     "text": [
      "Accuracy score: 0.814360770578\n",
      "            acc  good  unacc  vgood\n",
      "pred_acc     61    10     14      6\n",
      "pred_good     2     7      0      0\n",
      "pred_unacc   62     5    382      0\n",
      "pred_vgood    2     1      4     15\n",
      "             precision    recall  f1-score   support\n",
      "\n",
      "          0       0.48      0.67      0.56        91\n",
      "          1       0.30      0.78      0.44         9\n",
      "          2       0.95      0.85      0.90       449\n",
      "          3       0.71      0.68      0.70        22\n",
      "\n",
      "avg / total       0.86      0.81      0.83       571\n",
      "\n"
     ]
    }
   ],
   "source": [
    "models['bagging_logreg'] = evaluate_model(BaggingClassifier(models['logreg'].set_params(penalty='l1', C=100.0)))"
   ]
  },
  {
   "cell_type": "code",
   "execution_count": 16,
   "metadata": {
    "collapsed": false
   },
   "outputs": [
    {
     "name": "stdout",
     "output_type": "stream",
     "text": [
      "{'n_estimators': 15, 'bootstrap': True, 'bootstrap_features': False}\n"
     ]
    }
   ],
   "source": [
    "pg = {'n_estimators': [4, 8, 10, 12, 15],\n",
    "     'bootstrap': [True, False],\n",
    "     'bootstrap_features': [True, False]}\n",
    "grid_search(models['bagging_logreg'], pg)"
   ]
  },
  {
   "cell_type": "code",
   "execution_count": 17,
   "metadata": {
    "collapsed": false
   },
   "outputs": [
    {
     "name": "stdout",
     "output_type": "stream",
     "text": [
      "Accuracy score: 0.817863397548\n",
      "            acc  good  unacc  vgood\n",
      "pred_acc     60    10     12      7\n",
      "pred_good     2     8      1      0\n",
      "pred_unacc   64     5    385      0\n",
      "pred_vgood    1     0      2     14\n",
      "             precision    recall  f1-score   support\n",
      "\n",
      "          0       0.47      0.67      0.56        89\n",
      "          1       0.35      0.73      0.47        11\n",
      "          2       0.96      0.85      0.90       454\n",
      "          3       0.67      0.82      0.74        17\n",
      "\n",
      "avg / total       0.87      0.82      0.83       571\n",
      "\n"
     ]
    },
    {
     "data": {
      "text/plain": [
       "BaggingClassifier(base_estimator=LogisticRegression(C=100.0, class_weight=None, dual=False, fit_intercept=True,\n",
       "          intercept_scaling=1, max_iter=100, multi_class='ovr', n_jobs=1,\n",
       "          penalty='l1', random_state=None, solver='liblinear', tol=0.0001,\n",
       "          verbose=0, warm_start=False),\n",
       "         bootstrap=True, bootstrap_features=False, max_features=1.0,\n",
       "         max_samples=1.0, n_estimators=10, n_jobs=1, oob_score=False,\n",
       "         random_state=None, verbose=0, warm_start=False)"
      ]
     },
     "execution_count": 17,
     "metadata": {},
     "output_type": "execute_result"
    }
   ],
   "source": [
    "evaluate_model(models['bagging_logreg'].set_params(n_estimators=10, bootstrap=True, bootstrap_features=False))"
   ]
  },
  {
   "cell_type": "markdown",
   "metadata": {},
   "source": [
    "## 5. Decision Trees\n",
    "\n",
    "Let's see if Decision Trees perform better\n",
    "\n",
    "1. Initialize DT and test on Train/Test set\n",
    "- Find optimal params with Grid Search\n",
    "- See if Bagging improves the score"
   ]
  },
  {
   "cell_type": "code",
   "execution_count": 18,
   "metadata": {
    "collapsed": false
   },
   "outputs": [
    {
     "name": "stdout",
     "output_type": "stream",
     "text": [
      "Accuracy score: 0.973730297723\n",
      "            acc  good  unacc  vgood\n",
      "pred_acc    122     1      8      1\n",
      "pred_good     1    22      0      0\n",
      "pred_unacc    4     0    392      0\n",
      "pred_vgood    0     0      0     20\n",
      "             precision    recall  f1-score   support\n",
      "\n",
      "          0       0.96      0.92      0.94       132\n",
      "          1       0.96      0.96      0.96        23\n",
      "          2       0.98      0.99      0.98       396\n",
      "          3       0.95      1.00      0.98        20\n",
      "\n",
      "avg / total       0.97      0.97      0.97       571\n",
      "\n"
     ]
    }
   ],
   "source": [
    "models['dec_tree'] = evaluate_model(DecisionTreeClassifier())"
   ]
  },
  {
   "cell_type": "code",
   "execution_count": 19,
   "metadata": {
    "collapsed": false
   },
   "outputs": [
    {
     "name": "stdout",
     "output_type": "stream",
     "text": [
      "{'max_features': None, 'max_leaf_nodes': None, 'criterion': 'gini', 'max_depth': None}\n"
     ]
    }
   ],
   "source": [
    "pg = {\n",
    "    'criterion': ['gini', 'entropy'],\n",
    "    'max_features': [None, 1, 2, 3],\n",
    "    'max_depth': [None, 4, 5, 6, 7, 8, 9],\n",
    "    'max_leaf_nodes': [None, 4, 5, 6, 7, 8, 9]\n",
    "}\n",
    "grid_search(models['dec_tree'], pg)"
   ]
  },
  {
   "cell_type": "code",
   "execution_count": 20,
   "metadata": {
    "collapsed": false
   },
   "outputs": [
    {
     "name": "stdout",
     "output_type": "stream",
     "text": [
      "Accuracy score: 0.978984238179\n",
      "            acc  good  unacc  vgood\n",
      "pred_acc    124     1      5      2\n",
      "pred_good     0    22      0      1\n",
      "pred_unacc    3     0    395      0\n",
      "pred_vgood    0     0      0     18\n",
      "             precision    recall  f1-score   support\n",
      "\n",
      "          0       0.98      0.94      0.96       132\n",
      "          1       0.96      0.96      0.96        23\n",
      "          2       0.99      0.99      0.99       398\n",
      "          3       0.86      1.00      0.92        18\n",
      "\n",
      "avg / total       0.98      0.98      0.98       571\n",
      "\n"
     ]
    }
   ],
   "source": [
    "models['dec_tree'] = evaluate_model(models['dec_tree'].set_params(criterion='entropy'))"
   ]
  },
  {
   "cell_type": "code",
   "execution_count": 21,
   "metadata": {
    "collapsed": false
   },
   "outputs": [
    {
     "name": "stdout",
     "output_type": "stream",
     "text": [
      "Accuracy score: 0.971978984238\n",
      "            acc  good  unacc  vgood\n",
      "pred_acc    123     2      7      1\n",
      "pred_good     1    21      0      2\n",
      "pred_unacc    3     0    393      0\n",
      "pred_vgood    0     0      0     18\n",
      "             precision    recall  f1-score   support\n",
      "\n",
      "          0       0.97      0.92      0.95       133\n",
      "          1       0.91      0.88      0.89        24\n",
      "          2       0.98      0.99      0.99       396\n",
      "          3       0.86      1.00      0.92        18\n",
      "\n",
      "avg / total       0.97      0.97      0.97       571\n",
      "\n"
     ]
    }
   ],
   "source": [
    "models['bagging_dec_tree'] = evaluate_model(BaggingClassifier(models['dec_tree']))"
   ]
  },
  {
   "cell_type": "code",
   "execution_count": 22,
   "metadata": {
    "collapsed": false
   },
   "outputs": [
    {
     "name": "stdout",
     "output_type": "stream",
     "text": [
      "{'n_estimators': 12, 'bootstrap': True, 'bootstrap_features': False}\n"
     ]
    }
   ],
   "source": [
    "pg = {'n_estimators': [4, 8, 10, 12, 15],\n",
    "     'bootstrap': [True, False],\n",
    "     'bootstrap_features': [True, False]}\n",
    "grid_search(models['bagging_dec_tree'], pg)"
   ]
  },
  {
   "cell_type": "code",
   "execution_count": 23,
   "metadata": {
    "collapsed": false
   },
   "outputs": [
    {
     "name": "stdout",
     "output_type": "stream",
     "text": [
      "Accuracy score: 0.978984238179\n",
      "            acc  good  unacc  vgood\n",
      "pred_acc    124     1      5      2\n",
      "pred_good     0    22      0      1\n",
      "pred_unacc    3     0    395      0\n",
      "pred_vgood    0     0      0     18\n",
      "             precision    recall  f1-score   support\n",
      "\n",
      "          0       0.98      0.94      0.96       132\n",
      "          1       0.96      0.96      0.96        23\n",
      "          2       0.99      0.99      0.99       398\n",
      "          3       0.86      1.00      0.92        18\n",
      "\n",
      "avg / total       0.98      0.98      0.98       571\n",
      "\n"
     ]
    }
   ],
   "source": [
    "models['bagging_dec_tree'] = evaluate_model(BaggingClassifier(models['dec_tree'], n_estimators=4, \n",
    "                                                              bootstrap=False, bootstrap_features=False))"
   ]
  },
  {
   "cell_type": "markdown",
   "metadata": {},
   "source": [
    "## 6. Support Vector Machines\n",
    "\n",
    "Let's see if SVM perform better\n",
    "\n",
    "1. Initialize SVM and test on Train/Test set\n",
    "- Find optimal params with Grid Search\n",
    "- See if Bagging improves the score"
   ]
  },
  {
   "cell_type": "code",
   "execution_count": 24,
   "metadata": {
    "collapsed": true
   },
   "outputs": [],
   "source": [
    "X_train, X_test, y_train, y_test = train_test_split(X_, y, stratify=y, test_size=0.33, random_state=42)"
   ]
  },
  {
   "cell_type": "code",
   "execution_count": 25,
   "metadata": {
    "collapsed": false
   },
   "outputs": [
    {
     "name": "stdout",
     "output_type": "stream",
     "text": [
      "Accuracy score: 0.903677758319\n",
      "            acc  good  unacc  vgood\n",
      "pred_acc    124    22     17     12\n",
      "pred_good     0     0      0      0\n",
      "pred_unacc    3     0    383      0\n",
      "pred_vgood    0     1      0      9\n",
      "             precision    recall  f1-score   support\n",
      "\n",
      "          0       0.98      0.71      0.82       175\n",
      "          1       0.00      0.00      0.00         0\n",
      "          2       0.96      0.99      0.97       386\n",
      "          3       0.43      0.90      0.58        10\n",
      "\n",
      "avg / total       0.95      0.90      0.92       571\n",
      "\n"
     ]
    },
    {
     "name": "stderr",
     "output_type": "stream",
     "text": [
      "//anaconda/lib/python2.7/site-packages/sklearn/metrics/classification.py:1115: UndefinedMetricWarning: Recall and F-score are ill-defined and being set to 0.0 in labels with no true samples.\n",
      "  'recall', 'true', average, warn_for)\n"
     ]
    }
   ],
   "source": [
    "models['svc'] = evaluate_model(SVC())"
   ]
  },
  {
   "cell_type": "code",
   "execution_count": 26,
   "metadata": {
    "collapsed": false
   },
   "outputs": [
    {
     "name": "stdout",
     "output_type": "stream",
     "text": [
      "{'kernel': 'poly', 'C': 1000.0, 'degree': 3}\n"
     ]
    }
   ],
   "source": [
    "pg = {\n",
    "    'C': [1.0, 10.0, 100.0, 1000.0, 10000.0],\n",
    "    'kernel': ['rbf', 'linear', 'poly'],\n",
    "    'degree': [1, 2, 3, 4, 5]\n",
    "}\n",
    "grid_search(models['svc'], pg)"
   ]
  },
  {
   "cell_type": "code",
   "execution_count": 27,
   "metadata": {
    "collapsed": false
   },
   "outputs": [
    {
     "name": "stdout",
     "output_type": "stream",
     "text": [
      "Accuracy score: 0.998248686515\n",
      "            acc  good  unacc  vgood\n",
      "pred_acc    127     1      0      0\n",
      "pred_good     0    22      0      0\n",
      "pred_unacc    0     0    400      0\n",
      "pred_vgood    0     0      0     21\n",
      "             precision    recall  f1-score   support\n",
      "\n",
      "          0       1.00      0.99      1.00       128\n",
      "          1       0.96      1.00      0.98        22\n",
      "          2       1.00      1.00      1.00       400\n",
      "          3       1.00      1.00      1.00        21\n",
      "\n",
      "avg / total       1.00      1.00      1.00       571\n",
      "\n"
     ]
    }
   ],
   "source": [
    "models['svc'] = evaluate_model(SVC(kernel='poly', C=1000.0, degree=3))"
   ]
  },
  {
   "cell_type": "code",
   "execution_count": 28,
   "metadata": {
    "collapsed": false
   },
   "outputs": [
    {
     "name": "stdout",
     "output_type": "stream",
     "text": [
      "Accuracy score: 0.991243432574\n",
      "            acc  good  unacc  vgood\n",
      "pred_acc    127     1      3      0\n",
      "pred_good     0    22      0      1\n",
      "pred_unacc    0     0    397      0\n",
      "pred_vgood    0     0      0     20\n",
      "             precision    recall  f1-score   support\n",
      "\n",
      "          0       1.00      0.97      0.98       131\n",
      "          1       0.96      0.96      0.96        23\n",
      "          2       0.99      1.00      1.00       397\n",
      "          3       0.95      1.00      0.98        20\n",
      "\n",
      "avg / total       0.99      0.99      0.99       571\n",
      "\n"
     ]
    }
   ],
   "source": [
    "models['bagging_svc'] = evaluate_model(BaggingClassifier(models['svc']))"
   ]
  },
  {
   "cell_type": "code",
   "execution_count": 29,
   "metadata": {
    "collapsed": false
   },
   "outputs": [
    {
     "name": "stdout",
     "output_type": "stream",
     "text": [
      "{'n_estimators': 15, 'bootstrap': True, 'bootstrap_features': False}\n"
     ]
    }
   ],
   "source": [
    "pg = {'n_estimators': [4, 8, 10, 12, 15],\n",
    "     'bootstrap': [True, False],\n",
    "     'bootstrap_features': [True, False]}\n",
    "grid_search(models['bagging_svc'], pg)"
   ]
  },
  {
   "cell_type": "code",
   "execution_count": 30,
   "metadata": {
    "collapsed": false
   },
   "outputs": [
    {
     "name": "stdout",
     "output_type": "stream",
     "text": [
      "Accuracy score: 0.998248686515\n",
      "            acc  good  unacc  vgood\n",
      "pred_acc    127     1      0      0\n",
      "pred_good     0    22      0      0\n",
      "pred_unacc    0     0    400      0\n",
      "pred_vgood    0     0      0     21\n",
      "             precision    recall  f1-score   support\n",
      "\n",
      "          0       1.00      0.99      1.00       128\n",
      "          1       0.96      1.00      0.98        22\n",
      "          2       1.00      1.00      1.00       400\n",
      "          3       1.00      1.00      1.00        21\n",
      "\n",
      "avg / total       1.00      1.00      1.00       571\n",
      "\n"
     ]
    }
   ],
   "source": [
    "models['bagging_svc'] = evaluate_model(BaggingClassifier(models['svc'], n_estimators=4, \n",
    "                                                              bootstrap=False, bootstrap_features=False))"
   ]
  },
  {
   "cell_type": "markdown",
   "metadata": {},
   "source": [
    "## 7. Random Forest & Extra Trees\n",
    "\n",
    "Let's see if Random Forest and Extra Trees perform better\n",
    "\n",
    "1. Initialize RF and ET and test on Train/Test set\n",
    "- Find optimal params with Grid Search"
   ]
  },
  {
   "cell_type": "code",
   "execution_count": 31,
   "metadata": {
    "collapsed": true
   },
   "outputs": [],
   "source": [
    "X_train, X_test, y_train, y_test = train_test_split(X, y, stratify=y, test_size=0.33, random_state=42)"
   ]
  },
  {
   "cell_type": "code",
   "execution_count": 32,
   "metadata": {
    "collapsed": false
   },
   "outputs": [
    {
     "name": "stdout",
     "output_type": "stream",
     "text": [
      "Accuracy score: 0.963222416813\n",
      "            acc  good  unacc  vgood\n",
      "pred_acc    121     4      7      2\n",
      "pred_good     1    19      0      2\n",
      "pred_unacc    5     0    393      0\n",
      "pred_vgood    0     0      0     17\n",
      "             precision    recall  f1-score   support\n",
      "\n",
      "          0       0.95      0.90      0.93       134\n",
      "          1       0.83      0.86      0.84        22\n",
      "          2       0.98      0.99      0.98       398\n",
      "          3       0.81      1.00      0.89        17\n",
      "\n",
      "avg / total       0.96      0.96      0.96       571\n",
      "\n"
     ]
    }
   ],
   "source": [
    "models['rand_for'] = evaluate_model(RandomForestClassifier())"
   ]
  },
  {
   "cell_type": "code",
   "execution_count": 33,
   "metadata": {
    "collapsed": false
   },
   "outputs": [
    {
     "name": "stdout",
     "output_type": "stream",
     "text": [
      "{'bootstrap': False, 'criterion': 'gini', 'max_depth': 15}\n"
     ]
    }
   ],
   "source": [
    "pg = {\n",
    "    'bootstrap': [True, False],\n",
    "    'criterion':['gini', 'entropy'],\n",
    "    'max_depth': [None, 3, 5, 7, 9, 15]\n",
    "}\n",
    "grid_search(models['rand_for'], pg)"
   ]
  },
  {
   "cell_type": "code",
   "execution_count": 34,
   "metadata": {
    "collapsed": false
   },
   "outputs": [
    {
     "name": "stdout",
     "output_type": "stream",
     "text": [
      "Accuracy score: 0.973730297723\n",
      "            acc  good  unacc  vgood\n",
      "pred_acc    122     1      7      1\n",
      "pred_good     0    22      0      1\n",
      "pred_unacc    5     0    393      0\n",
      "pred_vgood    0     0      0     19\n",
      "             precision    recall  f1-score   support\n",
      "\n",
      "          0       0.96      0.93      0.95       131\n",
      "          1       0.96      0.96      0.96        23\n",
      "          2       0.98      0.99      0.98       398\n",
      "          3       0.90      1.00      0.95        19\n",
      "\n",
      "avg / total       0.97      0.97      0.97       571\n",
      "\n"
     ]
    }
   ],
   "source": [
    "models['rand_for'] = evaluate_model(RandomForestClassifier(bootstrap=False, criterion='entropy'))"
   ]
  },
  {
   "cell_type": "code",
   "execution_count": 35,
   "metadata": {
    "collapsed": false
   },
   "outputs": [
    {
     "name": "stdout",
     "output_type": "stream",
     "text": [
      "Accuracy score: 0.950963222417\n",
      "            acc  good  unacc  vgood\n",
      "pred_acc    120     5     13      1\n",
      "pred_good     1    18      0      2\n",
      "pred_unacc    6     0    387      0\n",
      "pred_vgood    0     0      0     18\n",
      "             precision    recall  f1-score   support\n",
      "\n",
      "          0       0.94      0.86      0.90       139\n",
      "          1       0.78      0.86      0.82        21\n",
      "          2       0.97      0.98      0.98       393\n",
      "          3       0.86      1.00      0.92        18\n",
      "\n",
      "avg / total       0.95      0.95      0.95       571\n",
      "\n"
     ]
    }
   ],
   "source": [
    "models['et'] = evaluate_model(ExtraTreesClassifier())"
   ]
  },
  {
   "cell_type": "code",
   "execution_count": 36,
   "metadata": {
    "collapsed": false
   },
   "outputs": [
    {
     "name": "stdout",
     "output_type": "stream",
     "text": [
      "{'bootstrap': False, 'criterion': 'gini', 'max_depth': None}\n"
     ]
    }
   ],
   "source": [
    "pg = {\n",
    "    'bootstrap': [True, False],\n",
    "    'criterion':['gini', 'entropy'],\n",
    "    'max_depth': [None, 3, 5, 7, 9, 15]\n",
    "}\n",
    "grid_search(models['et'], pg)"
   ]
  },
  {
   "cell_type": "code",
   "execution_count": 37,
   "metadata": {
    "collapsed": false
   },
   "outputs": [
    {
     "name": "stdout",
     "output_type": "stream",
     "text": [
      "Accuracy score: 0.973730297723\n",
      "            acc  good  unacc  vgood\n",
      "pred_acc    124     4      7      0\n",
      "pred_good     1    19      0      1\n",
      "pred_unacc    2     0    393      0\n",
      "pred_vgood    0     0      0     20\n",
      "             precision    recall  f1-score   support\n",
      "\n",
      "          0       0.98      0.92      0.95       135\n",
      "          1       0.83      0.90      0.86        21\n",
      "          2       0.98      0.99      0.99       395\n",
      "          3       0.95      1.00      0.98        20\n",
      "\n",
      "avg / total       0.97      0.97      0.97       571\n",
      "\n"
     ]
    }
   ],
   "source": [
    "models['et'] = evaluate_model(ExtraTreesClassifier(bootstrap=False, criterion='entropy', max_depth=15))"
   ]
  },
  {
   "cell_type": "markdown",
   "metadata": {},
   "source": [
    "## 8. Model comparison\n",
    "\n",
    "Let's compare the scores of the various models.\n",
    "\n",
    "1. Do a bar chart of the scores of the best models. Who's the winner on the train/test split?\n",
    "- Re-test all the models using a 3 fold stratified shuffled cross validation\n",
    "- Do a bar chart with errorbars of the cross validation average scores. is the winner the same?\n"
   ]
  },
  {
   "cell_type": "code",
   "execution_count": 66,
   "metadata": {
    "collapsed": false
   },
   "outputs": [],
   "source": [
    "scores = []\n",
    "mods = []\n",
    "for i in models:\n",
    "    if 'svc' not in i:\n",
    "        X_train, X_test, y_train, y_test = train_test_split(X, y, stratify=y, test_size=0.33, random_state=42)\n",
    "        scores.append(models[i].score(X_test, y_test))\n",
    "        mods.append(i)\n",
    "for i in models:\n",
    "    if 'svc' in i:\n",
    "        X_train, X_test, y_train, y_test = train_test_split(X_, y, stratify=y, test_size=0.33, random_state=42)\n",
    "        scores.append(models[i].score(X_test, y_test))\n",
    "        mods.append(i)\n",
    "mod_scores = pd.DataFrame()\n",
    "mod_scores['scores'] = scores\n",
    "mod_scores['models'] = mods\n"
   ]
  },
  {
   "cell_type": "code",
   "execution_count": 76,
   "metadata": {
    "collapsed": false
   },
   "outputs": [
    {
     "data": {
      "image/png": "[encoded data removed]",
      "text/plain": [
       "<matplotlib.figure.Figure at 0x11b563f10>"
      ]
     },
     "metadata": {},
     "output_type": "display_data"
    }
   ],
   "source": [
    "mod_scores.plot(x='models', y='scores', kind='bar', legend=False, title='Scores of Models', figsize=(10,10))\n",
    "plt.show()"
   ]
  },
  {
   "cell_type": "code",
   "execution_count": 70,
   "metadata": {
    "collapsed": false
   },
   "outputs": [
    {
     "data": {
      "text/html": [
       "<div>\n",
       "<table border=\"1\" class=\"dataframe\">\n",
       "  <thead>\n",
       "    <tr style=\"text-align: right;\">\n",
       "      <th></th>\n",
       "      <th>scores</th>\n",
       "      <th>models</th>\n",
       "      <th>mean</th>\n",
       "      <th>std</th>\n",
       "    </tr>\n",
       "  </thead>\n",
       "  <tbody>\n",
       "    <tr>\n",
       "      <th>0</th>\n",
       "      <td>[0.859375, 0.868421052632, 0.925925925926]</td>\n",
       "      <td>KNN</td>\n",
       "      <td>0.884574</td>\n",
       "      <td>0.029473</td>\n",
       "    </tr>\n",
       "    <tr>\n",
       "      <th>1</th>\n",
       "      <td>[0.927083333333, 0.894736842105, 0.962962962963]</td>\n",
       "      <td>bagging_dec_tree</td>\n",
       "      <td>0.931761</td>\n",
       "      <td>0.030146</td>\n",
       "    </tr>\n",
       "    <tr>\n",
       "      <th>2</th>\n",
       "      <td>[0.828125, 0.805263157895, 0.798941798942]</td>\n",
       "      <td>logreg</td>\n",
       "      <td>0.810777</td>\n",
       "      <td>0.012536</td>\n",
       "    </tr>\n",
       "    <tr>\n",
       "      <th>3</th>\n",
       "      <td>[0.890625, 0.894736842105, 0.920634920635]</td>\n",
       "      <td>bagging_knn</td>\n",
       "      <td>0.900245</td>\n",
       "      <td>0.024421</td>\n",
       "    </tr>\n",
       "    <tr>\n",
       "      <th>4</th>\n",
       "      <td>[0.942708333333, 0.905263157895, 0.920634920635]</td>\n",
       "      <td>et</td>\n",
       "      <td>0.921188</td>\n",
       "      <td>0.017886</td>\n",
       "    </tr>\n",
       "  </tbody>\n",
       "</table>\n",
       "</div>"
      ],
      "text/plain": [
       "                                             scores            models  \\\n",
       "0        [0.859375, 0.868421052632, 0.925925925926]               KNN   \n",
       "1  [0.927083333333, 0.894736842105, 0.962962962963]  bagging_dec_tree   \n",
       "2        [0.828125, 0.805263157895, 0.798941798942]            logreg   \n",
       "3        [0.890625, 0.894736842105, 0.920634920635]       bagging_knn   \n",
       "4  [0.942708333333, 0.905263157895, 0.920634920635]                et   \n",
       "\n",
       "       mean       std  \n",
       "0  0.884574  0.029473  \n",
       "1  0.931761  0.030146  \n",
       "2  0.810777  0.012536  \n",
       "3  0.900245  0.024421  \n",
       "4  0.921188  0.017886  "
      ]
     },
     "execution_count": 70,
     "metadata": {},
     "output_type": "execute_result"
    }
   ],
   "source": [
    "scores_ = []\n",
    "mods_ = []\n",
    "mean = []\n",
    "std = []\n",
    "\n",
    "for i in models:\n",
    "    if 'svc' not in i:\n",
    "        X_train, X_test, y_train, y_test = train_test_split(X, y, stratify=y, test_size=0.33, random_state=42)\n",
    "        scores_.append(cross_val_score(models[i],X_test, y_test))\n",
    "        mods_.append(i)\n",
    "        mean.append(np.mean(cross_val_score(models[i],X_test, y_test)))\n",
    "        std.append(np.std(cross_val_score(models[i],X_test, y_test)))\n",
    "for i in models:\n",
    "    if 'svc' in i:\n",
    "        X_train, X_test, y_train, y_test = train_test_split(X_, y, stratify=y, test_size=0.33, random_state=42)\n",
    "        scores_.append(cross_val_score(models[i],X_test, y_test))\n",
    "        mods_.append(i)\n",
    "        mean.append(np.mean(cross_val_score(models[i],X_test, y_test)))\n",
    "        std.append(np.std(cross_val_score(models[i],X_test, y_test)))\n",
    "\n",
    "mod_cvscores = pd.DataFrame()\n",
    "mod_cvscores['scores'] = scores_\n",
    "mod_cvscores['models'] = mods_\n",
    "mod_cvscores['mean'] = mean\n",
    "mod_cvscores['std'] = std\n",
    "mod_cvscores.head()"
   ]
  },
  {
   "cell_type": "code",
   "execution_count": 74,
   "metadata": {
    "collapsed": false
   },
   "outputs": [
    {
     "data": {
      "image/png": "[encoded data removed]",
      "text/plain": [
       "<matplotlib.figure.Figure at 0x11a52ff10>"
      ]
     },
     "metadata": {},
     "output_type": "display_data"
    }
   ],
   "source": [
    "mod_cvscores.plot(x='models', y='mean', kind='bar', legend=False, \n",
    "                  title='Scores of Models', yerr='std', figsize=(10,10))\n",
    "plt.show()"
   ]
  },
  {
   "cell_type": "markdown",
   "metadata": {},
   "source": [
    "It looks like bagging_svc is still the best, but it's much closer."
   ]
  },
  {
   "cell_type": "markdown",
   "metadata": {},
   "source": [
    "## Bonus\n",
    "\n",
    "We have encoded the data using a map that preserves the scale.\n",
    "Would our results have changed if we had encoded the categorical data using `pd.get_dummies` or `OneHotEncoder`  to encode them as binary variables instead?\n",
    "\n",
    "1. Repeat the analysis for this scenario. Is it better?\n",
    "- Experiment with other models or other parameters, can you beat your classmates best score?"
   ]
  },
  {
   "cell_type": "code",
   "execution_count": null,
   "metadata": {
    "collapsed": false
   },
   "outputs": [],
   "source": []
  }
 ],
 "metadata": {
  "anaconda-cloud": {},
  "kernelspec": {
   "display_name": "Python [Root]",
   "language": "python",
   "name": "Python [Root]"
  },
  "language_info": {
   "codemirror_mode": {
    "name": "ipython",
    "version": 2
   },
   "file_extension": ".py",
   "mimetype": "text/x-python",
   "name": "python",
   "nbconvert_exporter": "python",
   "pygments_lexer": "ipython2",
   "version": "2.7.12"
  }
 },
 "nbformat": 4,
 "nbformat_minor": 0
}
